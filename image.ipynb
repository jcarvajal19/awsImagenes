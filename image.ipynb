{
 "cells": [
  {
   "cell_type": "code",
   "execution_count": 1,
   "metadata": {},
   "outputs": [],
   "source": [
    "import io\n",
    "import base64\n",
    "import requests\n",
    "import json \n",
    "from PIL import Image\n",
    "import hashlib\n",
    "from dotenv import load_dotenv"
   ]
  },
  {
   "cell_type": "code",
   "execution_count": 2,
   "metadata": {},
   "outputs": [],
   "source": [
    "import os\n",
    "# Cargar las variables de entorno desde el archivo .env\n",
    "load_dotenv()\n",
    "# Acceder a las variables de entorno\n",
    "ENDPOINT_KEY = os.getenv('ENDPOINT_KEY')"
   ]
  },
  {
   "cell_type": "code",
   "execution_count": 3,
   "metadata": {},
   "outputs": [],
   "source": [
    "def convert_image(image_path):\n",
    "    with Image.open(image_path) as img:\n",
    "        buffer = io.BytesIO()\n",
    "        if img.format not in ['PNG', 'JPEG', 'GIF', 'WEBP']:\n",
    "            img.save(buffer, format=\"PNG\")\n",
    "            extension = \"png\"\n",
    "        else:\n",
    "            img.save(buffer, format=img.format)\n",
    "            extension = img.format.lower()\n",
    "        \n",
    "        processed_image_path = f\"processed_image.{extension}\"\n",
    "        with open(processed_image_path, \"wb\") as out_file:\n",
    "            out_file.write(buffer.getvalue())\n",
    "            \n",
    "        buffer.seek(0)  \n",
    "        return buffer.getvalue(),processed_image_path, extension\n",
    "    \n",
    "\n",
    "def calculate_checksum(image_data):\n",
    "    return hashlib.md5(image_data).hexdigest()"
   ]
  },
  {
   "cell_type": "code",
   "execution_count": 4,
   "metadata": {},
   "outputs": [
    {
     "name": "stdout",
     "output_type": "stream",
     "text": [
      "Checksum: 649a13b5ed113c097a45b29f9ab726c1\n",
      "Respuesta del servidor: {'statusCode': 200, 'body': '\"3\"'}\n",
      "Fin de la ejecución\n"
     ]
    }
   ],
   "source": [
    "# Path to your image file\n",
    "image_path = \"img6.jpg\"\n",
    "\n",
    "# Convert the image\n",
    "image_data, image_path, extension = convert_image(\"img6.jpg\")\n",
    "\n",
    "checksum = calculate_checksum(image_data)\n",
    "\n",
    "print(\"Checksum:\", checksum)\n",
    "\n",
    "encoded_image = base64.b64encode(image_data).decode('utf-8')\n",
    "     \n",
    "endpoint = f\"https://plvf1e97ll.execute-api.us-east-1.amazonaws.com/production/deteccion\" \n",
    "    \n",
    "headers = {\n",
    "        \"Content-Type\": \"application/json\",\n",
    "        \"x-api-key\": ENDPOINT_KEY\n",
    "    } \n",
    "\n",
    "inputRoot = {\n",
    "    \"Checksum\": checksum,\n",
    "    \"Extension\": extension,\n",
    "    \"Image\": encoded_image \n",
    "} \n",
    "\n",
    "dumbs = json.dumps(inputRoot)\n",
    "\n",
    "response = requests.post(endpoint, headers=headers, data=dumbs)\n",
    "    \n",
    "processed_image_path = \"processed_image.json\"\n",
    "with open(processed_image_path, \"w\") as out_file:\n",
    "    json.dump(inputRoot, out_file, indent=4)\n",
    "            \n",
    "if response.status_code == 200:\n",
    "    print(\"Respuesta del servidor:\", response.json())\n",
    "else:\n",
    "    print(\"Error en la solicitud:\", response.status_code, response.text)\n",
    "    \n",
    "print(\"Fin de la ejecución\")"
   ]
  }
 ],
 "metadata": {
  "kernelspec": {
   "display_name": "Python 3",
   "language": "python",
   "name": "python3"
  },
  "language_info": {
   "codemirror_mode": {
    "name": "ipython",
    "version": 3
   },
   "file_extension": ".py",
   "mimetype": "text/x-python",
   "name": "python",
   "nbconvert_exporter": "python",
   "pygments_lexer": "ipython3",
   "version": "3.12.4"
  }
 },
 "nbformat": 4,
 "nbformat_minor": 2
}
